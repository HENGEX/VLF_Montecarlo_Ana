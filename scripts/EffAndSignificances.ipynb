{
 "cells": [
  {
   "cell_type": "code",
   "execution_count": 1,
   "metadata": {},
   "outputs": [
    {
     "name": "stdout",
     "output_type": "stream",
     "text": [
      "(int) 0\n"
     ]
    }
   ],
   "source": [
    "gROOT->ProcessLine(\".x Lib.C\");"
   ]
  },
  {
   "cell_type": "code",
   "execution_count": 2,
   "metadata": {},
   "outputs": [],
   "source": [
    "TFile *_file0 = TFile::Open(\"/home/camilo/cms/VLF_Montecarlo_Ana/scripts/plots_root/nocut/Muons_Pt.root\");"
   ]
  },
  {
   "cell_type": "code",
   "execution_count": 3,
   "metadata": {},
   "outputs": [
    {
     "name": "stdout",
     "output_type": "stream",
     "text": [
      "TFile**\t\t/home/camilo/cms/VLF_Montecarlo_Ana/scripts/plots_root/nocut/Muons_Pt.root\t\n",
      " TFile*\t\t/home/camilo/cms/VLF_Montecarlo_Ana/scripts/plots_root/nocut/Muons_Pt.root\t\n",
      "  KEY: TDirectoryFile\tAnaMuons.Pt();1\tAnaMuons.Pt()\n"
     ]
    }
   ],
   "source": [
    "_file0->ls();"
   ]
  },
  {
   "cell_type": "code",
   "execution_count": 4,
   "metadata": {},
   "outputs": [
    {
     "name": "stdout",
     "output_type": "stream",
     "text": [
      "TDirectoryFile*\t\tAnaMuons.Pt()\tAnaMuons.Pt()\n",
      " KEY: TH1F\tDYAnaMuons.Pt;1\tDYAnaMuons.Pt()\n",
      " KEY: TH1F\tSTAnaMuons.Pt;1\tSTAnaMuons.Pt()\n",
      " KEY: TH1F\tSignalAnaMuons.Pt;1\tSignalAnaMuons.Pt()\n",
      " KEY: TH1F\tTTAnaMuons.Pt;1\tTTAnaMuons.Pt()\n",
      " KEY: TH1F\tWPlusJetsAnaMuons.Pt;1\tWPlusJetsAnaMuons.Pt()\n",
      " KEY: THStack\tPlotterStackAnaMuons.Pt();1\tPlotter Stack Branch=AnaMuons.Pt() Aliases=( DY ST Signal TT WPlusJets )\n",
      " KEY: TLegend\tTPave;1\tLegend of markers/lines/boxes to represent obj's\n"
     ]
    }
   ],
   "source": [
    "TDirectoryFile * Muons_Pt=(TDirectoryFile*)_file0->Get(\"AnaMuons.Pt()\");\n",
    "Muons_Pt->ls();"
   ]
  },
  {
   "cell_type": "code",
   "execution_count": 5,
   "metadata": {},
   "outputs": [],
   "source": [
    "//Get the TH1F and cast them into TH1D\n",
    "TH1D * DYAnaMuons_Pt = (TH1D *)Muons_Pt->Get(\"DYAnaMuons.Pt\");\n",
    "TH1D * STAnaMuons_Pt = (TH1D *)Muons_Pt->Get(\"STAnaMuons.Pt\");\n",
    "TH1D * TTAnaMuons_Pt = (TH1D *)Muons_Pt->Get(\"TTAnaMuons.Pt\");\n",
    "TH1D * WPlusJetsAnaMuons_Pt = (TH1D *)Muons_Pt->Get(\"WPlusJetsAnaMuons.Pt\");\n",
    "TH1D * SignalAnaMuons_Pt = (TH1D *)Muons_Pt->Get(\"SignalAnaMuons.Pt\");\n",
    "THStack * StackMuons_Pt = (THStack *)Muons_Pt->Get(\"PlotterStackAnaMuons.Pt()\");\n",
    "TLegend * LegendStackMuons_Pt = (TLegend *)Muons_Pt->Get(\"TPave\");\n",
    "//Vector of the TH1D Background, as\n",
    "std::vector<TH1D *> BackgroundMu;\n",
    "BackgroundMu.push_back(DYAnaMuons_Pt);\n",
    "BackgroundMu.push_back(STAnaMuons_Pt);\n",
    "BackgroundMu.push_back(TTAnaMuons_Pt);\n",
    "BackgroundMu.push_back(WPlusJetsAnaMuons_Pt);"
   ]
  },
  {
   "cell_type": "markdown",
   "metadata": {},
   "source": [
    "### Stack Plot"
   ]
  },
  {
   "cell_type": "code",
   "execution_count": 6,
   "metadata": {},
   "outputs": [],
   "source": [
    "TCanvas *canv = new TCanvas();"
   ]
  },
  {
   "cell_type": "code",
   "execution_count": 7,
   "metadata": {},
   "outputs": [
    {
     "data": {
      "image/png": "[encoded data removed]",
      "text/plain": [
       "<IPython.core.display.Image object>"
      ]
     },
     "metadata": {},
     "output_type": "display_data"
    }
   ],
   "source": [
    "StackMuons_Pt->Draw();\n",
    "LegendStackMuons_Pt->Draw();\n",
    "canv->Draw();"
   ]
  },
  {
   "cell_type": "code",
   "execution_count": 8,
   "metadata": {},
   "outputs": [],
   "source": [
    "//canv->SaveAs(\"Plots_PDF/NoCuts_Mu-Pt_Stak.pdf\",\"pdf\")"
   ]
  },
  {
   "cell_type": "code",
   "execution_count": 9,
   "metadata": {},
   "outputs": [
    {
     "name": "stderr",
     "output_type": "stream",
     "text": [
      "Info in <TCanvas::Print>: pdf file Plots_PDF/NoCuts_Mu-Pt_Stak.pdf has been created using the current canvas\n"
     ]
    }
   ],
   "source": [
    "//Other way to save the plot\n",
    "//canv->Print(\"Plots_PDF/NoCuts_Mu-Pt_Stak.pdf(\",\"pdf\");"
   ]
  },
  {
   "cell_type": "markdown",
   "metadata": {},
   "source": [
    "### Signal Muon Pt"
   ]
  },
  {
   "cell_type": "code",
   "execution_count": null,
   "metadata": {},
   "outputs": [],
   "source": [
    "SignalAnaMuons_Pt->Draw();\n",
    "canv->Draw();"
   ]
  },
  {
   "cell_type": "code",
   "execution_count": null,
   "metadata": {},
   "outputs": [],
   "source": [
    "//canv->SaveAs(\"Plots_PDF/NoCuts_Mu-Pt_Signal.pdf\",\"pdf\")"
   ]
  },
  {
   "cell_type": "code",
   "execution_count": null,
   "metadata": {},
   "outputs": [],
   "source": [
    "Muon_Pt_TH=Significance(SignalAnaMuons_Pt,BackgroundMu);\n",
    "Muon_Pt_THDraw=Muon_Pt_TH.GetSigLessThan();\n",
    "Muon_Pt_THDraw->Draw();\n",
    "canv->Draw();"
   ]
  },
  {
   "cell_type": "code",
   "execution_count": null,
   "metadata": {},
   "outputs": [],
   "source": [
    "//canv->SaveAs(\"Plots_PDF/NoCuts_SigLessThan.pdf\",\"pdf\")"
   ]
  },
  {
   "cell_type": "markdown",
   "metadata": {},
   "source": [
    "### efficency plots"
   ]
  },
  {
   "cell_type": "code",
   "execution_count": null,
   "metadata": {},
   "outputs": [],
   "source": [
    "//Get The efficency plots\n",
    "std::vector<TH1D *> Muon_Pt_Eff_THDraw = Muon_Pt_TH.GetEffLessThan();\n",
    "//Muon_Pt_Eff_THDraw[0]->SetFillStyle(4050);\n",
    "Muon_Pt_Eff_THDraw[0]->SetFillColor(0);\n",
    "Muon_Pt_Eff_THDraw[0]->Draw(\"E\");\n",
    "//Muon_Pt_Eff_THDraw[1]->SetFillStyle(4050);\n",
    "Muon_Pt_Eff_THDraw[1]->SetFillColor(0);\n",
    "Muon_Pt_Eff_THDraw[1]->Draw(\"same E\");\n",
    "//Muon_Pt_Eff_THDraw[2]->SetFillStyle(4050);\n",
    "Muon_Pt_Eff_THDraw[2]->SetFillColor(0);\n",
    "Muon_Pt_Eff_THDraw[2]->Draw(\"same E\");\n",
    "//Muon_Pt_Eff_THDraw[3]->SetFillStyle(4050);\n",
    "Muon_Pt_Eff_THDraw[3]->SetFillColor(0);\n",
    "Muon_Pt_Eff_THDraw[3]->Draw(\"same E\");\n",
    "//Muon_Pt_Eff_THDraw[4]->SetFillStyle(4050);\n",
    "Muon_Pt_Eff_THDraw[4]->SetFillColor(0);\n",
    "Muon_Pt_Eff_THDraw[4]->Draw(\"same E\");\n",
    "canv->Draw();"
   ]
  },
  {
   "cell_type": "code",
   "execution_count": null,
   "metadata": {},
   "outputs": [],
   "source": [
    "//canv->SaveAs(\"Plots_PDF/NoCuts_Eff-Less-Than.pdf\",\"pdf\")"
   ]
  },
  {
   "cell_type": "markdown",
   "metadata": {},
   "source": [
    "## Firs cut"
   ]
  },
  {
   "cell_type": "code",
   "execution_count": null,
   "metadata": {},
   "outputs": [],
   "source": [
    "//gROOT->ProcessLine(\".x Lib.C\");"
   ]
  },
  {
   "cell_type": "code",
   "execution_count": null,
   "metadata": {},
   "outputs": [],
   "source": [
    "TFile *_file1 = TFile::Open(\"/home/camilo/cms/VLF_Montecarlo_Ana/scripts/plots_root/cut1/MT_LeadingMuon_MET.root\");"
   ]
  },
  {
   "cell_type": "code",
   "execution_count": null,
   "metadata": {},
   "outputs": [],
   "source": [
    "TDirectoryFile * LeadingMuon_MET=(TDirectoryFile*)_file1->Get(\"MT_LeadingMuon_MET\");\n",
    "LeadingMuon_MET->ls();"
   ]
  },
  {
   "cell_type": "code",
   "execution_count": null,
   "metadata": {},
   "outputs": [],
   "source": [
    "//Get the TH1F and cast them into TH1D\n",
    "TH1D * DYLMuon_MET = (TH1D *)LeadingMuon_MET->Get(\"DYMT_LeadingMuon_MET\");\n",
    "TH1D * STLMuon_MET = (TH1D *)LeadingMuon_MET->Get(\"STMT_LeadingMuon_MET\");\n",
    "TH1D * TTLMuon_MET = (TH1D *)LeadingMuon_MET->Get(\"TTMT_LeadingMuon_MET\");\n",
    "TH1D * WPlusJetsLMuon_MET = (TH1D *)LeadingMuon_MET->Get(\"WPlusJetsMT_LeadingMuon_MET\");\n",
    "TH1D * SignalLMuon_MET = (TH1D *)LeadingMuon_MET->Get(\"SignalMT_LeadingMuon_MET\");\n",
    "THStack * StackLMuon_MET = (THStack *)LeadingMuon_MET->Get(\"PlotterStackMT_LeadingMuon_MET\");\n",
    "TLegend * LegendStackLMuon_MET = (TLegend *)LeadingMuon_MET->Get(\"TPave\");\n",
    "//Vector of the TH1D Background, as\n",
    "std::vector<TH1D *> BackgroundLMuonMET;\n",
    "BackgroundLMuonMET.push_back(DYLMuon_MET);\n",
    "BackgroundLMuonMET.push_back(STLMuon_MET);\n",
    "BackgroundLMuonMET.push_back(TTLMuon_MET);\n",
    "BackgroundLMuonMET.push_back(WPlusJetsLMuon_MET);"
   ]
  },
  {
   "cell_type": "markdown",
   "metadata": {},
   "source": [
    "### Stack Plot"
   ]
  },
  {
   "cell_type": "code",
   "execution_count": null,
   "metadata": {},
   "outputs": [],
   "source": [
    "StackLMuon_MET->Draw();\n",
    "LegendStackLMuon_MET->Draw();\n",
    "canv->Draw();"
   ]
  },
  {
   "cell_type": "code",
   "execution_count": null,
   "metadata": {},
   "outputs": [],
   "source": [
    "//canv->SaveAs(\"Plots_PDF/Cut1_Leading-Muon-MET_Stak.pdf\",\"pdf\")"
   ]
  },
  {
   "cell_type": "code",
   "execution_count": null,
   "metadata": {},
   "outputs": [],
   "source": [
    "SignalLMuon_MET->Draw();\n",
    "canv->Draw();"
   ]
  },
  {
   "cell_type": "code",
   "execution_count": null,
   "metadata": {},
   "outputs": [],
   "source": [
    "//canv->SaveAs(\"Plots_PDF/Cut1_Leading-Muon-MET_Signal.pdf\",\"pdf\")"
   ]
  },
  {
   "cell_type": "code",
   "execution_count": null,
   "metadata": {},
   "outputs": [],
   "source": [
    "Leading_Muon_MET_TH=Significance(SignalLMuon_MET,BackgroundLMuonMET);\n",
    "Leading_Muon_MET_THDraw=Leading_Muon_MET_TH.GetSigLessThan();\n",
    "Leading_Muon_MET_THDraw->Draw();\n",
    "canv->Draw();"
   ]
  },
  {
   "cell_type": "code",
   "execution_count": null,
   "metadata": {},
   "outputs": [],
   "source": [
    "//canv->SaveAs(\"Plots_PDF/Cut1_SigLessThan.pdf\",\"pdf\")"
   ]
  },
  {
   "cell_type": "markdown",
   "metadata": {},
   "source": [
    "### Efficency plots"
   ]
  },
  {
   "cell_type": "code",
   "execution_count": null,
   "metadata": {},
   "outputs": [],
   "source": [
    "//Get The efficency plots\n",
    "std::vector<TH1D *> Leading_Muon_MET_Eff_THDraw = Leading_Muon_MET_TH.GetEffLessThan();\n",
    "//Leading_Muon_MET_Eff_THDraw[0]->SetFillStyle(3001);\n",
    "Leading_Muon_MET_Eff_THDraw[0]->SetFillColor(0);\n",
    "Leading_Muon_MET_Eff_THDraw[0]->Draw(\"E\");\n",
    "//Leading_Muon_MET_Eff_THDraw[1]->SetFillStyle(4050);\n",
    "Leading_Muon_MET_Eff_THDraw[1]->SetFillColor(0);\n",
    "Leading_Muon_MET_Eff_THDraw[1]->Draw(\"same E\");\n",
    "//Leading_Muon_MET_Eff_THDraw[2]->SetFillStyle(4050);\n",
    "Leading_Muon_MET_Eff_THDraw[2]->SetFillColor(0);\n",
    "Leading_Muon_MET_Eff_THDraw[2]->Draw(\"same E\");\n",
    "//Leading_Muon_MET_Eff_THDraw[3]->SetFillStyle(4050);\n",
    "Leading_Muon_MET_Eff_THDraw[3]->SetFillColor(0);\n",
    "Leading_Muon_MET_Eff_THDraw[3]->Draw(\"same E\");\n",
    "//Leading_Muon_MET_Eff_THDraw[4]->SetFillStyle(4050);\n",
    "Leading_Muon_MET_Eff_THDraw[4]->SetFillColor(0);\n",
    "Leading_Muon_MET_Eff_THDraw[4]->Draw(\"same E\");\n",
    "canv->Draw();"
   ]
  },
  {
   "cell_type": "code",
   "execution_count": null,
   "metadata": {},
   "outputs": [],
   "source": [
    "//canv->SaveAs(\"Plots_PDF/Cut1_Eff-Less-Than.pdf\",\"pdf\")"
   ]
  },
  {
   "cell_type": "markdown",
   "metadata": {},
   "source": [
    "## Cut 2"
   ]
  },
  {
   "cell_type": "code",
   "execution_count": null,
   "metadata": {},
   "outputs": [],
   "source": [
    "//gROOT->ProcessLine(\".x Lib.C\");"
   ]
  },
  {
   "cell_type": "code",
   "execution_count": null,
   "metadata": {},
   "outputs": [],
   "source": [
    "TFile *_file2 = TFile::Open(\"/home/camilo/cms/VLF_Montecarlo_Ana/scripts/plots_root/cut2/AnaJets_size.root\");"
   ]
  },
  {
   "cell_type": "code",
   "execution_count": null,
   "metadata": {},
   "outputs": [],
   "source": [
    "_file2->ls();"
   ]
  },
  {
   "cell_type": "code",
   "execution_count": null,
   "metadata": {},
   "outputs": [],
   "source": [
    "TDirectoryFile * AnaJets_size=(TDirectoryFile*)_file2->Get(\"@AnaJets.size()\");\n",
    "AnaJets_size->ls();"
   ]
  },
  {
   "cell_type": "code",
   "execution_count": null,
   "metadata": {},
   "outputs": [],
   "source": [
    "//Get the TH1F and cast them into TH1D\n",
    "TH1D * DYJets_size = (TH1D *)AnaJets_size->Get(\"DY@AnaJets.size;\");\n",
    "TH1D * STJets_size = (TH1D *)AnaJets_size->Get(\"ST@AnaJets.size\");\n",
    "TH1D * TTJets_size = (TH1D *)AnaJets_size->Get(\"TT@AnaJets.size\");\n",
    "TH1D * WPlusJetsJets_size = (TH1D *)AnaJets_size->Get(\"WPlusJets@AnaJets.size\");\n",
    "TH1D * SignalJets_sizeT = (TH1D *)AnaJets_size->Get(\"Signal@AnaJets.size\");\n",
    "THStack * StackJets_size = (THStack *)AnaJets_size->Get(\"PlotterStack@AnaJets.size()\");\n",
    "TLegend * LegendStackJets_size = (TLegend *)AnaJets_size->Get(\"TPave\");\n",
    "//Vector of the TH1D Background, as\n",
    "std::vector<TH1D *> BackgroundJetsSize;\n",
    "BackgroundJetsSize.push_back(DYJets_size);\n",
    "BackgroundJetsSize.push_back(STJets_size);\n",
    "BackgroundJetsSize.push_back(TTJets_size);\n",
    "BackgroundJetsSize.push_back(WPlusJetsJets_size);"
   ]
  },
  {
   "cell_type": "markdown",
   "metadata": {},
   "source": [
    "### Stack Plot"
   ]
  },
  {
   "cell_type": "code",
   "execution_count": null,
   "metadata": {},
   "outputs": [],
   "source": [
    "StackJets_size->Draw();\n",
    "LegendStackJets_size->Draw();\n",
    "canv->Draw();"
   ]
  },
  {
   "cell_type": "code",
   "execution_count": null,
   "metadata": {},
   "outputs": [],
   "source": [
    "canv->SaveAs(\"Plots_PDF/Cut2_Jets-size_Stak.pdf\",\"pdf\")"
   ]
  },
  {
   "cell_type": "code",
   "execution_count": null,
   "metadata": {},
   "outputs": [],
   "source": [
    "SignalJets_sizeT->Draw();\n",
    "canv->Draw();"
   ]
  },
  {
   "cell_type": "code",
   "execution_count": null,
   "metadata": {},
   "outputs": [],
   "source": [
    "canv->SaveAs(\"Plots_PDF/Cut2_Jets-size_Signal.pdf\",\"pdf\")"
   ]
  },
  {
   "cell_type": "code",
   "execution_count": null,
   "metadata": {},
   "outputs": [],
   "source": [
    "auto Jets_sizeT_TH=Significance(SignalJets_sizeT,BackgroundJetsSize);\n",
    "TH1D * Jets_sizeT_THDraw=Jets_sizeT_TH.GetSigLessThan();\n",
    "Jets_sizeT_THDraw->Draw();\n",
    "canv->Draw();"
   ]
  },
  {
   "cell_type": "code",
   "execution_count": null,
   "metadata": {},
   "outputs": [],
   "source": [
    "canv->SaveAs(\"Plots_PDF/Cut2_SigLessThan.pdf\",\"pdf\")"
   ]
  },
  {
   "cell_type": "code",
   "execution_count": null,
   "metadata": {},
   "outputs": [],
   "source": [
    "//Get The efficency plots\n",
    "std::vector<TH1D *> Jets_sizeT_Eff_THDraw = Jets_sizeT_TH.GetEffLessThan();\n",
    "//Jets_sizeT_Eff_THDraw[0]->SetFillStyle(3001);\n",
    "Jets_sizeT_Eff_THDraw[0]->SetFillColor(0);\n",
    "Jets_sizeT_Eff_THDraw[0]->Draw(\"\");\n",
    "//Jets_sizeT_Eff_THDraw[1]->SetFillStyle(3001);\n",
    "Jets_sizeT_Eff_THDraw[1]->SetFillColor(0);\n",
    "Jets_sizeT_Eff_THDraw[1]->Draw(\"same\");\n",
    "//Jets_sizeT_Eff_THDraw[2]->SetFillStyle(3001);\n",
    "Jets_sizeT_Eff_THDraw[2]->SetFillColor(0);\n",
    "Jets_sizeT_Eff_THDraw[2]->Draw(\"same\");\n",
    "//Jets_sizeT_Eff_THDraw[3]->SetFillStyle(3001);\n",
    "Jets_sizeT_Eff_THDraw[3]->SetFillColor(0);\n",
    "Jets_sizeT_Eff_THDraw[3]->Draw(\"same\");\n",
    "//Jets_sizeT_Eff_THDraw[4]->SetFillStyle(3001);\n",
    "Jets_sizeT_Eff_THDraw[4]->SetFillColor(0);\n",
    "Jets_sizeT_Eff_THDraw[4]->Draw(\"same\");\n",
    "canv->Draw();"
   ]
  },
  {
   "cell_type": "code",
   "execution_count": null,
   "metadata": {},
   "outputs": [],
   "source": [
    "canv->SaveAs(\"Plots_PDF/Cut2_Eff-Less-Than.pdf\",\"pdf\")"
   ]
  },
  {
   "cell_type": "code",
   "execution_count": null,
   "metadata": {},
   "outputs": [],
   "source": []
  }
 ],
 "metadata": {
  "kernelspec": {
   "display_name": "ROOT C++",
   "language": "c++",
   "name": "root"
  },
  "language_info": {
   "codemirror_mode": "text/x-c++src",
   "file_extension": ".C",
   "mimetype": " text/x-c++src",
   "name": "c++"
  }
 },
 "nbformat": 4,
 "nbformat_minor": 2
}
